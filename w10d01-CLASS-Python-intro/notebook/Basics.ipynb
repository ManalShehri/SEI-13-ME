{
 "cells": [
  {
   "cell_type": "markdown",
   "metadata": {},
   "source": [
    "## Variables"
   ]
  },
  {
   "cell_type": "code",
   "execution_count": 2,
   "metadata": {},
   "outputs": [
    {
     "name": "stdout",
     "output_type": "stream",
     "text": [
      "3\n"
     ]
    }
   ],
   "source": [
    "# I've eaten 3 cupcakes\n",
    "cupcakes_ive_eaten = 3\n",
    "print(cupcakes_ive_eaten)\n",
    "# Prints 3"
   ]
  },
  {
   "cell_type": "markdown",
   "metadata": {},
   "source": [
    "**Discussion: Changing Values**"
   ]
  },
  {
   "cell_type": "code",
   "execution_count": 3,
   "metadata": {},
   "outputs": [],
   "source": [
    "cupcakes_ive_eaten = 3"
   ]
  },
  {
   "cell_type": "markdown",
   "metadata": {},
   "source": [
    "What do you think we need to do?"
   ]
  },
  {
   "cell_type": "markdown",
   "metadata": {},
   "source": [
    "**Discussion: Reassigning Variables**"
   ]
  },
  {
   "cell_type": "code",
   "execution_count": 5,
   "metadata": {},
   "outputs": [
    {
     "name": "stdout",
     "output_type": "stream",
     "text": [
      "3\n",
      "4\n"
     ]
    }
   ],
   "source": [
    "cupcakes_ive_eaten = 3\n",
    "print(cupcakes_ive_eaten)\n",
    "cupcakes_ive_eaten = 4\n",
    "print(cupcakes_ive_eaten)"
   ]
  },
  {
   "cell_type": "markdown",
   "metadata": {},
   "source": [
    "**Mathematical Operators**"
   ]
  },
  {
   "cell_type": "code",
   "execution_count": 6,
   "metadata": {},
   "outputs": [
    {
     "name": "stdout",
     "output_type": "stream",
     "text": [
      "9\n",
      "3\n",
      "18\n",
      "2.0\n"
     ]
    }
   ],
   "source": [
    "cupcakes_ive_eaten = 6 + 3\n",
    "print(cupcakes_ive_eaten)\n",
    "# Prints 9\n",
    "\n",
    "cupcakes_ive_eaten = 6 - 3\n",
    "print(cupcakes_ive_eaten)\n",
    "# Prints 3\n",
    "\n",
    "cupcakes_ive_eaten = 6 * 3\n",
    "print(cupcakes_ive_eaten)\n",
    "# Prints 18\n",
    "\n",
    "cupcakes_ive_eaten = 6 / 3\n",
    "print(cupcakes_ive_eaten)\n",
    "# Prints 2"
   ]
  },
  {
   "cell_type": "markdown",
   "metadata": {},
   "source": [
    "**Math On The Same Variable**"
   ]
  },
  {
   "cell_type": "code",
   "execution_count": 8,
   "metadata": {},
   "outputs": [
    {
     "name": "stdout",
     "output_type": "stream",
     "text": [
      "4\n",
      "4\n",
      "4\n"
     ]
    }
   ],
   "source": [
    "cupcakes_ive_eaten = 3\n",
    "cupcakes_ive_eaten = cupcakes_ive_eaten + 1\n",
    "print(cupcakes_ive_eaten)\n",
    "# Prints 4.m\n",
    "cupcakes_left_in_box = 6\n",
    "cupcakes_left_in_box = cupcakes_left_in_box - 1 \n",
    "print(cupcakes_ive_eaten)\n",
    "# Prints 5.\n",
    "cupcakes_left_in_box = cupcakes_left_in_box - cupcakes_ive_eaten \n",
    "print(cupcakes_ive_eaten)\n",
    "# Prints 1."
   ]
  },
  {
   "cell_type": "markdown",
   "metadata": {},
   "source": [
    "**Partner Exercise: Mathematical Operators**"
   ]
  },
  {
   "cell_type": "code",
   "execution_count": 10,
   "metadata": {},
   "outputs": [
    {
     "name": "stdout",
     "output_type": "stream",
     "text": [
      "1\n",
      "3\n"
     ]
    }
   ],
   "source": [
    "# Make a variable to hold the number of guitars you own (3).\n",
    "Nick = 3\n",
    "\n",
    "# Make a variable to hold the number of guitars Nikhil owns (1). \n",
    "Nikhil = 1\n",
    "\n",
    "# You give 2 of your guitars to Nikhil, so subtract 2 from you and add 2 to Nikhil.\n",
    "Nick -= 2\n",
    "Nikhil +=2\n",
    "\n",
    "print(Nick)\n",
    "print(Nikhil)\n",
    "\n",
    "\n"
   ]
  },
  {
   "cell_type": "markdown",
   "metadata": {},
   "source": [
    "**Reassignment Shorthand**\n",
    "\n",
    "This is okay:"
   ]
  },
  {
   "cell_type": "code",
   "execution_count": 11,
   "metadata": {},
   "outputs": [],
   "source": [
    "my_num = 9\n",
    "my_num = my_num + 7\n",
    "# my_num is now 16"
   ]
  },
  {
   "cell_type": "markdown",
   "metadata": {},
   "source": [
    "But this is better:"
   ]
  },
  {
   "cell_type": "code",
   "execution_count": 12,
   "metadata": {},
   "outputs": [],
   "source": [
    "my_num = 9\n",
    "my_num += 7 # += is short for theSameVariable = theSameVariable + 7\n",
    "# my_num is now 16"
   ]
  },
  {
   "cell_type": "markdown",
   "metadata": {},
   "source": [
    "**Partner Exercise: Numerical Reassignment**"
   ]
  },
  {
   "cell_type": "code",
   "execution_count": 17,
   "metadata": {},
   "outputs": [
    {
     "name": "stdout",
     "output_type": "stream",
     "text": [
      "0\n",
      "10\n",
      "True\n"
     ]
    }
   ],
   "source": [
    "# Declare two variables `num1` and `num2` and assign them to any numbers you'd like.\n",
    "num1 = 5\n",
    "num2 = 10\n",
    "\n",
    "# Set `num1` to the result of subtracting `num1` from the `num2`.\n",
    "num1 -= num2\n",
    "\n",
    "# Create a new variable `num3` that will help us tell if `num2` is even or odd.\n",
    "num3 = num2 % 2 == 0\n",
    "\n",
    "# Using shorthand, add 5 to `num1`.\n",
    "num1 += 5\n",
    "\n",
    "# Print out `num1`, `num2`, and `num3`\n",
    "print(num1)\n",
    "print(num2)\n",
    "print(num3)"
   ]
  },
  {
   "cell_type": "markdown",
   "metadata": {},
   "source": [
    "## Strings"
   ]
  },
  {
   "cell_type": "markdown",
   "metadata": {},
   "source": [
    "**How Do I Create Strings in Python?**"
   ]
  },
  {
   "cell_type": "code",
   "execution_count": 18,
   "metadata": {},
   "outputs": [
    {
     "name": "stdout",
     "output_type": "stream",
     "text": [
      "cupcakes\n"
     ]
    }
   ],
   "source": [
    "box_contents = \"cupcakes\" # This is a string\n",
    "print(box_contents) # It's a normal variable - we can print it.\n",
    "best_snack = \"Frosted Cupcakes\" # This is a string.\n",
    "cupcakes_ive_eaten = 5 # No quotes - this is a number.\n",
    "cupcakes_ive_eaten_as_string = \"5\" # Because this is in quotes, this is a string."
   ]
  },
  {
   "cell_type": "markdown",
   "metadata": {},
   "source": [
    "**We Do: Declaring Strings:**"
   ]
  },
  {
   "cell_type": "code",
   "execution_count": 21,
   "metadata": {},
   "outputs": [
    {
     "name": "stdout",
     "output_type": "stream",
     "text": [
      "{'red', 'green', 'yellow'}\n"
     ]
    }
   ],
   "source": [
    "# You can pass a variable to set() - or directly type the list\n",
    "#my_set = set(a_list_to_convert)\n",
    "\n",
    "# In action:\n",
    "unique_colors_list = [\"red\", \"yellow\", \"red\", \"green\", \"red\", \"yellow\"]\n",
    "unique_colors_set = set(unique_colors_list)\n",
    "print(unique_colors_set)"
   ]
  },
  {
   "cell_type": "markdown",
   "metadata": {},
   "source": [
    "**String Concatenation**"
   ]
  },
  {
   "cell_type": "code",
   "execution_count": 23,
   "metadata": {},
   "outputs": [
    {
     "name": "stdout",
     "output_type": "stream",
     "text": [
      "DocBrown\n"
     ]
    }
   ],
   "source": [
    "first_name = \"Doc\"\n",
    "last_name = \"Brown\"\n",
    "full_name = first_name + last_name\n",
    "print(full_name)"
   ]
  },
  {
   "cell_type": "markdown",
   "metadata": {},
   "source": [
    "**We Do: Spaces in Concatenation** "
   ]
  },
  {
   "cell_type": "code",
   "execution_count": 24,
   "metadata": {},
   "outputs": [
    {
     "name": "stdout",
     "output_type": "stream",
     "text": [
      "Martyis driving hisDelorean88mph\n"
     ]
    }
   ],
   "source": [
    "name = \"Marty\"\n",
    "car = \"Delorean\"\n",
    "speed = \"88mph\"\n",
    "\n",
    "sentence = name + \"is driving his\" + car + speed\n",
    "print(sentence)"
   ]
  },
  {
   "cell_type": "markdown",
   "metadata": {},
   "source": [
    "Strings are made with quotes:"
   ]
  },
  {
   "cell_type": "code",
   "execution_count": 26,
   "metadata": {},
   "outputs": [],
   "source": [
    "name = \"Marty\"\n",
    "car = \"Delorean\"\n",
    "speed = \"88\""
   ]
  },
  {
   "cell_type": "markdown",
   "metadata": {},
   "source": [
    "String Concatenation - we need to add the spaces!"
   ]
  },
  {
   "cell_type": "code",
   "execution_count": 27,
   "metadata": {},
   "outputs": [],
   "source": [
    "sentence = name + \" is driving his \" + car + \" \" + speed\n",
    "string_numbers = \"88\" + \"51\"\n",
    "# string_numbers = 8851"
   ]
  },
  {
   "cell_type": "markdown",
   "metadata": {},
   "source": [
    "To easily create spaces while printing:"
   ]
  },
  {
   "cell_type": "code",
   "execution_count": 28,
   "metadata": {},
   "outputs": [
    {
     "name": "stdout",
     "output_type": "stream",
     "text": [
      "Marty is driving his Delorean 88\n"
     ]
    }
   ],
   "source": [
    "print(name, \"is driving his\", car, speed)"
   ]
  },
  {
   "cell_type": "markdown",
   "metadata": {},
   "source": [
    "**Discussion: Some Common Mistakes: 1**"
   ]
  },
  {
   "cell_type": "code",
   "execution_count": 29,
   "metadata": {},
   "outputs": [
    {
     "name": "stdout",
     "output_type": "stream",
     "text": [
      "16\n"
     ]
    }
   ],
   "source": [
    "my_num\n",
    "print(my_num)"
   ]
  },
  {
   "cell_type": "markdown",
   "metadata": {},
   "source": [
    "**Discussion: Some Common Mistakes: 2**"
   ]
  },
  {
   "cell_type": "code",
   "execution_count": 31,
   "metadata": {},
   "outputs": [
    {
     "name": "stdout",
     "output_type": "stream",
     "text": [
      "\n"
     ]
    }
   ],
   "source": [
    "my_num = 5\n",
    "print()"
   ]
  },
  {
   "cell_type": "markdown",
   "metadata": {},
   "source": [
    "**Discussion: Some Common Mistakes: 3**"
   ]
  },
  {
   "cell_type": "code",
   "execution_count": 32,
   "metadata": {},
   "outputs": [
    {
     "ename": "TypeError",
     "evalue": "unsupported operand type(s) for +: 'int' and 'str'",
     "output_type": "error",
     "traceback": [
      "\u001b[0;31m---------------------------------------------------------------------------\u001b[0m",
      "\u001b[0;31mTypeError\u001b[0m                                 Traceback (most recent call last)",
      "\u001b[0;32m<ipython-input-32-8bb94c6033d8>\u001b[0m in \u001b[0;36m<module>\u001b[0;34m()\u001b[0m\n\u001b[1;32m      1\u001b[0m \u001b[0mmy_num\u001b[0m \u001b[0;34m=\u001b[0m \u001b[0;36m5\u001b[0m\u001b[0;34m\u001b[0m\u001b[0m\n\u001b[1;32m      2\u001b[0m \u001b[0mmy_string\u001b[0m \u001b[0;34m=\u001b[0m \u001b[0;34m\"Hello\"\u001b[0m\u001b[0;34m\u001b[0m\u001b[0m\n\u001b[0;32m----> 3\u001b[0;31m \u001b[0mprint\u001b[0m\u001b[0;34m(\u001b[0m\u001b[0mmy_num\u001b[0m \u001b[0;34m+\u001b[0m \u001b[0mmy_string\u001b[0m\u001b[0;34m)\u001b[0m\u001b[0;34m\u001b[0m\u001b[0m\n\u001b[0m",
      "\u001b[0;31mTypeError\u001b[0m: unsupported operand type(s) for +: 'int' and 'str'"
     ]
    }
   ],
   "source": [
    "my_num = 5\n",
    "my_string = \"Hello\"\n",
    "print(my_num + my_string)"
   ]
  },
  {
   "cell_type": "markdown",
   "metadata": {},
   "source": [
    "**Discussion: Some Common Mistakes: 4**"
   ]
  },
  {
   "cell_type": "code",
   "execution_count": 33,
   "metadata": {},
   "outputs": [
    {
     "name": "stdout",
     "output_type": "stream",
     "text": [
      "1020\n"
     ]
    }
   ],
   "source": [
    "my_num1 = \"10\"\n",
    "my_num2 = \"20\"\n",
    "print(my_num1 + my_num2)"
   ]
  },
  {
   "cell_type": "markdown",
   "metadata": {},
   "source": [
    "## Lab: Variables"
   ]
  },
  {
   "cell_type": "code",
   "execution_count": 37,
   "metadata": {},
   "outputs": [
    {
     "name": "stdout",
     "output_type": "stream",
     "text": [
      "The rating for Back to the Future is 8\n"
     ]
    }
   ],
   "source": [
    "# Create movie_app.py\n",
    "\n",
    "movie = \"Back to the Future\"\n",
    "rating = 8\n",
    "\n",
    "print(\"The rating for \" + movie + \" is \" + str(rating))"
   ]
  },
  {
   "cell_type": "markdown",
   "metadata": {},
   "source": [
    "**Problem: Decoding R2D2**"
   ]
  },
  {
   "cell_type": "code",
   "execution_count": 38,
   "metadata": {},
   "outputs": [
    {
     "name": "stdout",
     "output_type": "stream",
     "text": [
      "8\n"
     ]
    }
   ],
   "source": [
    "beeps = 2\n",
    "boops = 6\n",
    "total = beeps + boops\n",
    "print(total) # prints 8"
   ]
  },
  {
   "cell_type": "code",
   "execution_count": null,
   "metadata": {},
   "outputs": [],
   "source": []
  }
 ],
 "metadata": {
  "kernelspec": {
   "display_name": "Python 3",
   "language": "python",
   "name": "python3"
  },
  "language_info": {
   "codemirror_mode": {
    "name": "ipython",
    "version": 3
   },
   "file_extension": ".py",
   "mimetype": "text/x-python",
   "name": "python",
   "nbconvert_exporter": "python",
   "pygments_lexer": "ipython3",
   "version": "3.6.5"
  }
 },
 "nbformat": 4,
 "nbformat_minor": 2
}
